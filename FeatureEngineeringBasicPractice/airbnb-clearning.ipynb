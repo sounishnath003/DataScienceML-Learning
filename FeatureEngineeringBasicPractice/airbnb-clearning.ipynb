{
 "cells": [
  {
   "cell_type": "code",
   "execution_count": null,
   "source": [
    "!curl https://raw.githubusercontent.com/codebasics/py/master/ML/FeatureEngineering/1_outliers/Exercise/AB_NYC_2019.csv > data.csv\n",
    "!ls\n",
    "!pip3 install pandas numpy seaborn matplotlib scikit-learn\n",
    "import pandas as pd\n",
    "import matplotlib.pyplot as plt\n",
    "import seaborn as sns\n",
    "\n",
    "%matplotlib inline\n",
    "df = pd.read_csv(\"data.csv\")\n",
    "df.head()\n",
    "df.shape\n",
    "df = df.sample(frac=True, random_state=42)\n",
    "df.reset_index(drop=True)\n",
    "df.columns\n",
    "# sns.pairplot(df)\n",
    "sns.displot(df.availability_365)\n",
    "df.describe().T\n",
    "df = df.iloc[:, 2:]\n",
    "df.isna().sum()\n",
    "df.dropna(inplace=True)\n",
    "df.shape\n",
    "df.isna().sum()\n",
    "\n",
    "df.room_type.value_counts()\n",
    "sns.relplot(y='price', x='neighbourhood_group', hue='room_type', data=df)\n",
    "\n",
    "min_thresold , max_thresold  = df.price.quantile([0.05, 0.95])\n",
    "print (min_thresold, max_thresold)\n",
    "df = df[ df.price < max_thresold ]\n",
    "df = df[ df.price > min_thresold ]\n",
    "df.shape\n",
    "df.price.describe()\n",
    "df.sample(frac=True)\n"
   ],
   "outputs": [],
   "metadata": {}
  }
 ],
 "metadata": {
  "orig_nbformat": 4,
  "language_info": {
   "name": "plaintext"
  }
 },
 "nbformat": 4,
 "nbformat_minor": 2
}