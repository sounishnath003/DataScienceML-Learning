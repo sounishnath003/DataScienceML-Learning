{
 "cells": [
  {
   "cell_type": "code",
   "execution_count": 1,
   "metadata": {},
   "outputs": [],
   "source": [
    "import tensorflow as tf\n",
    "import re\n",
    "import numpy as np"
   ]
  },
  {
   "cell_type": "code",
   "execution_count": 2,
   "metadata": {},
   "outputs": [],
   "source": [
    "# Data Took From WikiPedia = https://en.wikipedia.org/wiki/Tata_Consultancy_Services\n",
    "with open(\"data\", \"rb\") as f:\n",
    "    raw_data = f.read().decode()"
   ]
  },
  {
   "cell_type": "code",
   "execution_count": 3,
   "metadata": {},
   "outputs": [],
   "source": [
    "def clean_text(text):\n",
    "    tokens = re.split(\"\\W+\", text)\n",
    "    tokens = [w for w in tokens if w.isalpha()]\n",
    "    tokens = [w.lower() for w in tokens]\n",
    "    return tokens"
   ]
  },
  {
   "cell_type": "code",
   "execution_count": 4,
   "metadata": {},
   "outputs": [
    {
     "data": {
      "text/plain": [
       "['tata',\n",
       " 'consultancy',\n",
       " 'services',\n",
       " 'tcs',\n",
       " 'is',\n",
       " 'an',\n",
       " 'indian',\n",
       " 'multinational',\n",
       " 'information',\n",
       " 'technology']"
      ]
     },
     "execution_count": 4,
     "metadata": {},
     "output_type": "execute_result"
    }
   ],
   "source": [
    "extracted_tokens = clean_text(raw_data)\n",
    "extracted_tokens[:10]"
   ]
  },
  {
   "cell_type": "code",
   "execution_count": 5,
   "metadata": {},
   "outputs": [
    {
     "name": "stdout",
     "output_type": "stream",
     "text": [
      "Original Length:  783\n",
      "Unique WordList:  309\n"
     ]
    }
   ],
   "source": [
    "print (\"Original Length: \", len(extracted_tokens))\n",
    "print (\"Unique WordList: \", len(set(extracted_tokens)))"
   ]
  },
  {
   "cell_type": "code",
   "execution_count": 6,
   "metadata": {},
   "outputs": [],
   "source": [
    "length = 51\n",
    "lines = list()\n",
    "\n",
    "for index in range(length, len(extracted_tokens)):\n",
    "    sequence = extracted_tokens[index - length : index]\n",
    "    line = \" \".join(sequence)\n",
    "    lines.append(line)"
   ]
  },
  {
   "cell_type": "code",
   "execution_count": 7,
   "metadata": {},
   "outputs": [
    {
     "name": "stdout",
     "output_type": "stream",
     "text": [
      "732\n"
     ]
    }
   ],
   "source": [
    "print(len(lines))"
   ]
  },
  {
   "cell_type": "code",
   "execution_count": 8,
   "metadata": {},
   "outputs": [
    {
     "data": {
      "text/plain": [
       "'tata consultancy services tcs is an indian multinational information technology it services and consulting company headquartered in mumbai maharashtra india with its largest campus located in chennai tamil nadu india as of february tcs is the largest it services company in the world by market capitalisation billion it is a subsidiary'"
      ]
     },
     "execution_count": 8,
     "metadata": {},
     "output_type": "execute_result"
    }
   ],
   "source": [
    "lines[0]"
   ]
  },
  {
   "cell_type": "code",
   "execution_count": 9,
   "metadata": {},
   "outputs": [
    {
     "data": {
      "text/plain": [
       "'of'"
      ]
     },
     "execution_count": 9,
     "metadata": {},
     "output_type": "execute_result"
    }
   ],
   "source": [
    "extracted_tokens[51]"
   ]
  },
  {
   "cell_type": "markdown",
   "metadata": {},
   "source": [
    "## Building LSTM Networks"
   ]
  },
  {
   "cell_type": "code",
   "execution_count": 10,
   "metadata": {},
   "outputs": [],
   "source": [
    "tokenizer = tf.keras.preprocessing.text.Tokenizer()\n",
    "tokenizer.fit_on_texts(lines)"
   ]
  },
  {
   "cell_type": "code",
   "execution_count": 11,
   "metadata": {},
   "outputs": [
    {
     "name": "stdout",
     "output_type": "stream",
     "text": [
      "(732, 51)\n"
     ]
    }
   ],
   "source": [
    "sequences = np.array(tokenizer.texts_to_sequences(lines))\n",
    "print(sequences.shape)"
   ]
  },
  {
   "cell_type": "code",
   "execution_count": 12,
   "metadata": {},
   "outputs": [],
   "source": [
    "X, y = sequences[:, :-1], sequences[:, -1]"
   ]
  },
  {
   "cell_type": "code",
   "execution_count": 13,
   "metadata": {},
   "outputs": [
    {
     "name": "stdout",
     "output_type": "stream",
     "text": [
      "310 50\n"
     ]
    }
   ],
   "source": [
    "VOCAB_SIZE = len(tokenizer.word_index) + 1\n",
    "SEQUENCE_LEN = X.shape[1]\n",
    "\n",
    "print (VOCAB_SIZE, SEQUENCE_LEN)"
   ]
  },
  {
   "cell_type": "code",
   "execution_count": 14,
   "metadata": {},
   "outputs": [
    {
     "data": {
      "text/plain": [
       "(array([  3,  29,   1,  50,   5,  12,   8,   2,   1,  37,  27,   9,  17,\n",
       "         11,   5,  29,  10,  99,   4,   1,  13, 100,   6, 101,   2, 102,\n",
       "        103, 104,   3,  29,   1,  52,  50,  18,   8,  27,   9,  17,   6,\n",
       "         29, 105,   1,  28,  48,   5,  12, 106, 107,   2,   3]),\n",
       " 32)"
      ]
     },
     "execution_count": 14,
     "metadata": {},
     "output_type": "execute_result"
    }
   ],
   "source": [
    "X[33], y[33]"
   ]
  },
  {
   "cell_type": "code",
   "execution_count": 15,
   "metadata": {},
   "outputs": [],
   "source": [
    "y = tf.keras.utils.to_categorical(y, num_classes=VOCAB_SIZE)"
   ]
  },
  {
   "cell_type": "code",
   "execution_count": 16,
   "metadata": {},
   "outputs": [
    {
     "data": {
      "text/plain": [
       "((732, 50), (732, 310))"
      ]
     },
     "execution_count": 16,
     "metadata": {},
     "output_type": "execute_result"
    }
   ],
   "source": [
    "X.shape, y.shape"
   ]
  },
  {
   "cell_type": "code",
   "execution_count": 17,
   "metadata": {},
   "outputs": [
    {
     "name": "stdout",
     "output_type": "stream",
     "text": [
      "Metal device set to: Apple M1\n",
      "\n",
      "systemMemory: 8.00 GB\n",
      "maxCacheSize: 2.67 GB\n",
      "\n"
     ]
    },
    {
     "name": "stderr",
     "output_type": "stream",
     "text": [
      "2021-11-30 22:05:16.467312: I tensorflow/core/common_runtime/pluggable_device/pluggable_device_factory.cc:305] Could not identify NUMA node of platform GPU ID 0, defaulting to 0. Your kernel may not have been built with NUMA support.\n",
      "2021-11-30 22:05:16.467402: I tensorflow/core/common_runtime/pluggable_device/pluggable_device_factory.cc:271] Created TensorFlow device (/job:localhost/replica:0/task:0/device:GPU:0 with 0 MB memory) -> physical PluggableDevice (device: 0, name: METAL, pci bus id: <undefined>)\n"
     ]
    }
   ],
   "source": [
    "tf_model = tf.keras.models.Sequential(layers=[\n",
    "    tf.keras.layers.Embedding(input_dim=VOCAB_SIZE, output_dim=SEQUENCE_LEN, input_length=SEQUENCE_LEN),\n",
    "    tf.keras.layers.Bidirectional(tf.keras.layers.LSTM(100, return_sequences=True)),\n",
    "    tf.keras.layers.LSTM(100, return_sequences=True),\n",
    "    tf.keras.layers.LSTM(100),\n",
    "    tf.keras.layers.Dense(100, activation=\"relu\"),\n",
    "    tf.keras.layers.Dense(VOCAB_SIZE, activation=\"softmax\")\n",
    "])"
   ]
  },
  {
   "cell_type": "code",
   "execution_count": 18,
   "metadata": {},
   "outputs": [
    {
     "name": "stdout",
     "output_type": "stream",
     "text": [
      "Model: \"sequential\"\n",
      "_________________________________________________________________\n",
      "Layer (type)                 Output Shape              Param #   \n",
      "=================================================================\n",
      "embedding (Embedding)        (None, 50, 50)            15500     \n",
      "_________________________________________________________________\n",
      "bidirectional (Bidirectional (None, 50, 200)           120800    \n",
      "_________________________________________________________________\n",
      "lstm_1 (LSTM)                (None, 50, 100)           120400    \n",
      "_________________________________________________________________\n",
      "lstm_2 (LSTM)                (None, 100)               80400     \n",
      "_________________________________________________________________\n",
      "dense (Dense)                (None, 100)               10100     \n",
      "_________________________________________________________________\n",
      "dense_1 (Dense)              (None, 310)               31310     \n",
      "=================================================================\n",
      "Total params: 378,510\n",
      "Trainable params: 378,510\n",
      "Non-trainable params: 0\n",
      "_________________________________________________________________\n"
     ]
    }
   ],
   "source": [
    "tf_model.summary()"
   ]
  },
  {
   "cell_type": "code",
   "execution_count": 19,
   "metadata": {},
   "outputs": [],
   "source": [
    "tf_model.compile(loss=[\"categorical_crossentropy\"], optimizer=\"adam\", metrics=[\"accuracy\"])"
   ]
  },
  {
   "cell_type": "code",
   "execution_count": 20,
   "metadata": {},
   "outputs": [
    {
     "name": "stderr",
     "output_type": "stream",
     "text": [
      "2021-11-30 22:05:17.072992: I tensorflow/compiler/mlir/mlir_graph_optimization_pass.cc:185] None of the MLIR Optimization Passes are enabled (registered 2)\n",
      "2021-11-30 22:05:17.073165: W tensorflow/core/platform/profile_utils/cpu_utils.cc:128] Failed to get CPU frequency: 0 Hz\n"
     ]
    },
    {
     "name": "stdout",
     "output_type": "stream",
     "text": [
      "Epoch 1/100\n"
     ]
    },
    {
     "name": "stderr",
     "output_type": "stream",
     "text": [
      "2021-11-30 22:05:18.217798: I tensorflow/core/grappler/optimizers/custom_graph_optimizer_registry.cc:112] Plugin optimizer for device_type GPU is enabled.\n",
      "2021-11-30 22:05:18.408138: I tensorflow/core/grappler/optimizers/custom_graph_optimizer_registry.cc:112] Plugin optimizer for device_type GPU is enabled.\n",
      "2021-11-30 22:05:18.416926: I tensorflow/core/grappler/optimizers/custom_graph_optimizer_registry.cc:112] Plugin optimizer for device_type GPU is enabled.\n",
      "2021-11-30 22:05:18.541714: I tensorflow/core/grappler/optimizers/custom_graph_optimizer_registry.cc:112] Plugin optimizer for device_type GPU is enabled.\n",
      "2021-11-30 22:05:18.617022: I tensorflow/core/grappler/optimizers/custom_graph_optimizer_registry.cc:112] Plugin optimizer for device_type GPU is enabled.\n",
      "2021-11-30 22:05:18.749843: I tensorflow/core/grappler/optimizers/custom_graph_optimizer_registry.cc:112] Plugin optimizer for device_type GPU is enabled.\n",
      "2021-11-30 22:05:18.898505: I tensorflow/core/grappler/optimizers/custom_graph_optimizer_registry.cc:112] Plugin optimizer for device_type GPU is enabled.\n",
      "2021-11-30 22:05:19.035754: I tensorflow/core/grappler/optimizers/custom_graph_optimizer_registry.cc:112] Plugin optimizer for device_type GPU is enabled.\n",
      "2021-11-30 22:05:19.038902: I tensorflow/core/grappler/optimizers/custom_graph_optimizer_registry.cc:112] Plugin optimizer for device_type GPU is enabled.\n"
     ]
    },
    {
     "name": "stdout",
     "output_type": "stream",
     "text": [
      "3/3 [==============================] - 3s 388ms/step - loss: 5.7359 - accuracy: 0.0328\n",
      "Epoch 2/100\n",
      "3/3 [==============================] - 0s 155ms/step - loss: 5.7313 - accuracy: 0.0574\n",
      "Epoch 3/100\n",
      "3/3 [==============================] - 0s 156ms/step - loss: 5.7239 - accuracy: 0.0574\n",
      "Epoch 4/100\n",
      "3/3 [==============================] - 1s 172ms/step - loss: 5.7037 - accuracy: 0.0574\n",
      "Epoch 5/100\n",
      "3/3 [==============================] - 0s 156ms/step - loss: 5.6229 - accuracy: 0.0574\n",
      "Epoch 6/100\n",
      "3/3 [==============================] - 0s 155ms/step - loss: 5.3895 - accuracy: 0.0574\n",
      "Epoch 7/100\n",
      "3/3 [==============================] - 1s 176ms/step - loss: 5.2621 - accuracy: 0.0574\n",
      "Epoch 8/100\n",
      "3/3 [==============================] - 0s 163ms/step - loss: 5.1931 - accuracy: 0.0574\n",
      "Epoch 9/100\n",
      "3/3 [==============================] - 1s 183ms/step - loss: 5.1390 - accuracy: 0.0574\n",
      "Epoch 10/100\n",
      "3/3 [==============================] - 1s 163ms/step - loss: 5.0933 - accuracy: 0.0574\n",
      "Epoch 11/100\n",
      "3/3 [==============================] - 0s 155ms/step - loss: 5.0707 - accuracy: 0.0478\n",
      "Epoch 12/100\n",
      "3/3 [==============================] - 0s 156ms/step - loss: 5.0535 - accuracy: 0.0464\n",
      "Epoch 13/100\n",
      "3/3 [==============================] - 0s 158ms/step - loss: 5.0436 - accuracy: 0.0533\n",
      "Epoch 14/100\n",
      "3/3 [==============================] - 0s 155ms/step - loss: 5.0357 - accuracy: 0.0574\n",
      "Epoch 15/100\n",
      "3/3 [==============================] - 0s 158ms/step - loss: 5.0314 - accuracy: 0.0574\n",
      "Epoch 16/100\n",
      "3/3 [==============================] - 0s 162ms/step - loss: 5.0281 - accuracy: 0.0574\n",
      "Epoch 17/100\n",
      "3/3 [==============================] - 0s 158ms/step - loss: 5.0271 - accuracy: 0.0574\n",
      "Epoch 18/100\n",
      "3/3 [==============================] - 0s 160ms/step - loss: 5.0252 - accuracy: 0.0574\n",
      "Epoch 19/100\n",
      "3/3 [==============================] - 1s 174ms/step - loss: 5.0241 - accuracy: 0.0574\n",
      "Epoch 20/100\n",
      "3/3 [==============================] - 1s 186ms/step - loss: 5.0226 - accuracy: 0.0574\n",
      "Epoch 21/100\n",
      "3/3 [==============================] - 1s 169ms/step - loss: 5.0219 - accuracy: 0.0574\n",
      "Epoch 22/100\n",
      "3/3 [==============================] - 0s 164ms/step - loss: 5.0224 - accuracy: 0.0574\n",
      "Epoch 23/100\n",
      "3/3 [==============================] - 0s 167ms/step - loss: 5.0218 - accuracy: 0.0574\n",
      "Epoch 24/100\n",
      "3/3 [==============================] - 0s 156ms/step - loss: 5.0213 - accuracy: 0.0574\n",
      "Epoch 25/100\n",
      "3/3 [==============================] - 1s 163ms/step - loss: 5.0216 - accuracy: 0.0574\n",
      "Epoch 26/100\n",
      "3/3 [==============================] - 0s 157ms/step - loss: 5.0207 - accuracy: 0.0574\n",
      "Epoch 27/100\n",
      "3/3 [==============================] - 0s 159ms/step - loss: 5.0208 - accuracy: 0.0574\n",
      "Epoch 28/100\n",
      "3/3 [==============================] - 0s 158ms/step - loss: 5.0209 - accuracy: 0.0574\n",
      "Epoch 29/100\n",
      "3/3 [==============================] - 0s 157ms/step - loss: 5.0203 - accuracy: 0.0574\n",
      "Epoch 30/100\n",
      "3/3 [==============================] - 0s 163ms/step - loss: 5.0206 - accuracy: 0.0574\n",
      "Epoch 31/100\n",
      "3/3 [==============================] - 0s 158ms/step - loss: 5.0205 - accuracy: 0.0574\n",
      "Epoch 32/100\n",
      "3/3 [==============================] - 0s 156ms/step - loss: 5.0201 - accuracy: 0.0574\n",
      "Epoch 33/100\n",
      "3/3 [==============================] - 0s 164ms/step - loss: 5.0197 - accuracy: 0.0574\n",
      "Epoch 34/100\n",
      "3/3 [==============================] - 0s 157ms/step - loss: 5.0196 - accuracy: 0.0574\n",
      "Epoch 35/100\n",
      "3/3 [==============================] - 0s 156ms/step - loss: 5.0198 - accuracy: 0.0574\n",
      "Epoch 36/100\n",
      "3/3 [==============================] - 0s 157ms/step - loss: 5.0195 - accuracy: 0.0574\n",
      "Epoch 37/100\n",
      "3/3 [==============================] - 0s 156ms/step - loss: 5.0205 - accuracy: 0.0574\n",
      "Epoch 38/100\n",
      "3/3 [==============================] - 0s 157ms/step - loss: 5.0201 - accuracy: 0.0574\n",
      "Epoch 39/100\n",
      "3/3 [==============================] - 0s 156ms/step - loss: 5.0199 - accuracy: 0.0574\n",
      "Epoch 40/100\n",
      "3/3 [==============================] - 0s 160ms/step - loss: 5.0203 - accuracy: 0.0574\n",
      "Epoch 41/100\n",
      "3/3 [==============================] - 0s 158ms/step - loss: 5.0197 - accuracy: 0.0574\n",
      "Epoch 42/100\n",
      "3/3 [==============================] - 0s 157ms/step - loss: 5.0194 - accuracy: 0.0574\n",
      "Epoch 43/100\n",
      "3/3 [==============================] - 0s 157ms/step - loss: 5.0190 - accuracy: 0.0574\n",
      "Epoch 44/100\n",
      "3/3 [==============================] - 0s 158ms/step - loss: 5.0192 - accuracy: 0.0574\n",
      "Epoch 45/100\n",
      "3/3 [==============================] - 0s 158ms/step - loss: 5.0196 - accuracy: 0.0574\n",
      "Epoch 46/100\n",
      "3/3 [==============================] - 0s 160ms/step - loss: 5.0194 - accuracy: 0.0574\n",
      "Epoch 47/100\n",
      "3/3 [==============================] - 0s 156ms/step - loss: 5.0194 - accuracy: 0.0574\n",
      "Epoch 48/100\n",
      "3/3 [==============================] - 0s 157ms/step - loss: 5.0193 - accuracy: 0.0574\n",
      "Epoch 49/100\n",
      "3/3 [==============================] - 0s 157ms/step - loss: 5.0193 - accuracy: 0.0574\n",
      "Epoch 50/100\n",
      "3/3 [==============================] - 0s 158ms/step - loss: 5.0195 - accuracy: 0.0574\n",
      "Epoch 51/100\n",
      "3/3 [==============================] - 0s 157ms/step - loss: 5.0196 - accuracy: 0.0574\n",
      "Epoch 52/100\n",
      "3/3 [==============================] - 0s 161ms/step - loss: 5.0192 - accuracy: 0.0574\n",
      "Epoch 53/100\n",
      "3/3 [==============================] - 0s 157ms/step - loss: 5.0190 - accuracy: 0.0574\n",
      "Epoch 54/100\n",
      "3/3 [==============================] - 0s 157ms/step - loss: 5.0195 - accuracy: 0.0574\n",
      "Epoch 55/100\n",
      "3/3 [==============================] - 0s 157ms/step - loss: 5.0186 - accuracy: 0.0574\n",
      "Epoch 56/100\n",
      "3/3 [==============================] - 0s 156ms/step - loss: 5.0205 - accuracy: 0.0574\n",
      "Epoch 57/100\n",
      "3/3 [==============================] - 0s 155ms/step - loss: 5.0195 - accuracy: 0.0574\n",
      "Epoch 58/100\n",
      "3/3 [==============================] - 0s 156ms/step - loss: 5.0198 - accuracy: 0.0574\n",
      "Epoch 59/100\n",
      "3/3 [==============================] - 0s 157ms/step - loss: 5.0191 - accuracy: 0.0574\n",
      "Epoch 60/100\n",
      "3/3 [==============================] - 0s 157ms/step - loss: 5.0191 - accuracy: 0.0574\n",
      "Epoch 61/100\n",
      "3/3 [==============================] - 0s 157ms/step - loss: 5.0193 - accuracy: 0.0574\n",
      "Epoch 62/100\n",
      "3/3 [==============================] - 0s 156ms/step - loss: 5.0187 - accuracy: 0.0574\n",
      "Epoch 63/100\n",
      "3/3 [==============================] - 0s 158ms/step - loss: 5.0185 - accuracy: 0.0574\n",
      "Epoch 64/100\n",
      "3/3 [==============================] - 0s 157ms/step - loss: 5.0189 - accuracy: 0.0574\n",
      "Epoch 65/100\n",
      "3/3 [==============================] - 0s 160ms/step - loss: 5.0189 - accuracy: 0.0574\n",
      "Epoch 66/100\n",
      "3/3 [==============================] - 0s 157ms/step - loss: 5.0188 - accuracy: 0.0574\n",
      "Epoch 67/100\n",
      "3/3 [==============================] - 0s 156ms/step - loss: 5.0188 - accuracy: 0.0574\n",
      "Epoch 68/100\n",
      "3/3 [==============================] - 0s 157ms/step - loss: 5.0188 - accuracy: 0.0574\n",
      "Epoch 69/100\n",
      "3/3 [==============================] - 0s 158ms/step - loss: 5.0189 - accuracy: 0.0574\n",
      "Epoch 70/100\n",
      "3/3 [==============================] - 0s 156ms/step - loss: 5.0190 - accuracy: 0.0574\n",
      "Epoch 71/100\n",
      "3/3 [==============================] - 0s 157ms/step - loss: 5.0196 - accuracy: 0.0574\n",
      "Epoch 72/100\n",
      "3/3 [==============================] - 0s 157ms/step - loss: 5.0185 - accuracy: 0.0574\n",
      "Epoch 73/100\n",
      "3/3 [==============================] - 0s 165ms/step - loss: 5.0187 - accuracy: 0.0574\n",
      "Epoch 74/100\n",
      "3/3 [==============================] - 0s 156ms/step - loss: 5.0186 - accuracy: 0.0574\n",
      "Epoch 75/100\n",
      "3/3 [==============================] - 0s 156ms/step - loss: 5.0193 - accuracy: 0.0574\n",
      "Epoch 76/100\n",
      "3/3 [==============================] - 0s 156ms/step - loss: 5.0191 - accuracy: 0.0574\n",
      "Epoch 77/100\n",
      "3/3 [==============================] - 0s 157ms/step - loss: 5.0184 - accuracy: 0.0574\n",
      "Epoch 78/100\n",
      "3/3 [==============================] - 0s 157ms/step - loss: 5.0192 - accuracy: 0.0574\n",
      "Epoch 79/100\n",
      "3/3 [==============================] - 0s 167ms/step - loss: 5.0189 - accuracy: 0.0574\n",
      "Epoch 80/100\n",
      "3/3 [==============================] - 1s 172ms/step - loss: 5.0189 - accuracy: 0.0574\n",
      "Epoch 81/100\n",
      "3/3 [==============================] - 1s 169ms/step - loss: 5.0184 - accuracy: 0.0574\n",
      "Epoch 82/100\n",
      "3/3 [==============================] - 0s 159ms/step - loss: 5.0198 - accuracy: 0.0574\n",
      "Epoch 83/100\n",
      "3/3 [==============================] - 0s 167ms/step - loss: 5.0197 - accuracy: 0.0574\n",
      "Epoch 84/100\n",
      "3/3 [==============================] - 1s 160ms/step - loss: 5.0190 - accuracy: 0.0574\n",
      "Epoch 85/100\n",
      "3/3 [==============================] - 0s 156ms/step - loss: 5.0189 - accuracy: 0.0574\n",
      "Epoch 86/100\n",
      "3/3 [==============================] - 0s 156ms/step - loss: 5.0190 - accuracy: 0.0574\n",
      "Epoch 87/100\n",
      "3/3 [==============================] - 0s 156ms/step - loss: 5.0185 - accuracy: 0.0574\n",
      "Epoch 88/100\n",
      "3/3 [==============================] - 0s 156ms/step - loss: 5.0194 - accuracy: 0.0574\n",
      "Epoch 89/100\n",
      "3/3 [==============================] - 0s 156ms/step - loss: 5.0188 - accuracy: 0.0574\n",
      "Epoch 90/100\n",
      "3/3 [==============================] - 1s 169ms/step - loss: 5.0186 - accuracy: 0.0574\n",
      "Epoch 91/100\n",
      "3/3 [==============================] - 0s 162ms/step - loss: 5.0191 - accuracy: 0.0574\n",
      "Epoch 92/100\n",
      "3/3 [==============================] - 1s 165ms/step - loss: 5.0186 - accuracy: 0.0574\n",
      "Epoch 93/100\n",
      "3/3 [==============================] - 0s 162ms/step - loss: 5.0185 - accuracy: 0.0574\n",
      "Epoch 94/100\n",
      "3/3 [==============================] - 1s 176ms/step - loss: 5.0187 - accuracy: 0.0574\n",
      "Epoch 95/100\n",
      "3/3 [==============================] - 1s 172ms/step - loss: 5.0191 - accuracy: 0.0574\n",
      "Epoch 96/100\n",
      "3/3 [==============================] - 1s 173ms/step - loss: 5.0182 - accuracy: 0.0574\n",
      "Epoch 97/100\n",
      "3/3 [==============================] - 0s 159ms/step - loss: 5.0189 - accuracy: 0.0574\n",
      "Epoch 98/100\n",
      "3/3 [==============================] - 0s 158ms/step - loss: 5.0186 - accuracy: 0.0574\n",
      "Epoch 99/100\n",
      "3/3 [==============================] - 0s 165ms/step - loss: 5.0195 - accuracy: 0.0574\n",
      "Epoch 100/100\n",
      "3/3 [==============================] - 0s 157ms/step - loss: 5.0183 - accuracy: 0.0574\n"
     ]
    },
    {
     "data": {
      "text/plain": [
       "<keras.callbacks.History at 0x1678bf3d0>"
      ]
     },
     "execution_count": 20,
     "metadata": {},
     "output_type": "execute_result"
    }
   ],
   "source": [
    "tf_model.fit(X, y, epochs=100, batch_size=256)"
   ]
  },
  {
   "cell_type": "code",
   "execution_count": 21,
   "metadata": {},
   "outputs": [],
   "source": [
    "def generate_text_sequence (tfmodel, tokenizer, text_seq_length, raw_text, n_words):\n",
    "    texts = list()\n",
    "    for index in range (n_words):\n",
    "        enconded = tokenizer.texts_to_sequences(raw_text)[0]\n",
    "        encoded_padded = tf.keras.preprocessing.sequence.pad_sequences(np.array([enconded]), maxlen=text_seq_length,  truncating=\"post\", padding=\"post\")\n",
    "        y_prdicted = tfmodel.predict_classes(encoded_padded)\n",
    "\n",
    "        predicted_word = \"\"\n",
    "        for word, index in tokenizer.word_index.items():\n",
    "            if index == y_prdicted:\n",
    "                predicted_word = word\n",
    "                break\n",
    "\n",
    "        raw_text = raw_text + predicted_word\n",
    "        texts.append(predicted_word)\n",
    "\n",
    "    return \" \".join(texts)"
   ]
  },
  {
   "cell_type": "code",
   "execution_count": 26,
   "metadata": {},
   "outputs": [
    {
     "data": {
      "text/plain": [
       "<tf.Tensor: shape=(50, 310), dtype=int32, numpy=\n",
       "array([[0, 0, 0, ..., 0, 0, 0],\n",
       "       [0, 0, 0, ..., 0, 0, 0],\n",
       "       [0, 0, 0, ..., 0, 0, 0],\n",
       "       ...,\n",
       "       [0, 0, 0, ..., 0, 0, 0],\n",
       "       [0, 0, 0, ..., 0, 0, 0],\n",
       "       [0, 0, 0, ..., 0, 0, 0]], dtype=int32)>"
      ]
     },
     "execution_count": 26,
     "metadata": {},
     "output_type": "execute_result"
    }
   ],
   "source": [
    "tf.cast(tf_model.predict(X[-50:]), dtype=np.int32)"
   ]
  },
  {
   "cell_type": "code",
   "execution_count": null,
   "metadata": {},
   "outputs": [],
   "source": []
  }
 ],
 "metadata": {
  "interpreter": {
   "hash": "b720f541ee79861b80893adc25b13611b3c37bb541fefad074bdb1cbb0d9a81c"
  },
  "kernelspec": {
   "display_name": "Python 3.9.7 64-bit ('base': conda)",
   "language": "python",
   "name": "python3"
  },
  "language_info": {
   "codemirror_mode": {
    "name": "ipython",
    "version": 3
   },
   "file_extension": ".py",
   "mimetype": "text/x-python",
   "name": "python",
   "nbconvert_exporter": "python",
   "pygments_lexer": "ipython3",
   "version": "3.9.7"
  },
  "orig_nbformat": 4
 },
 "nbformat": 4,
 "nbformat_minor": 2
}
