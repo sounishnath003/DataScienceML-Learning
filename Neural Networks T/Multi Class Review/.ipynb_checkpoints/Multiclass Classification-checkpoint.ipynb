{
 "cells": [
  {
   "cell_type": "code",
   "execution_count": 1,
   "id": "bb175e45",
   "metadata": {},
   "outputs": [
    {
     "name": "stdout",
     "output_type": "stream",
     "text": [
      "Requirement already satisfied: nltk in /Users/sounishnath/miniforge3/lib/python3.9/site-packages (3.6.5)\n",
      "Requirement already satisfied: regex>=2021.8.3 in /Users/sounishnath/miniforge3/lib/python3.9/site-packages (from nltk) (2021.11.10)\n",
      "Requirement already satisfied: click in /Users/sounishnath/miniforge3/lib/python3.9/site-packages (from nltk) (8.0.3)\n",
      "Requirement already satisfied: joblib in /Users/sounishnath/miniforge3/lib/python3.9/site-packages (from nltk) (1.1.0)\n",
      "Requirement already satisfied: tqdm in /Users/sounishnath/miniforge3/lib/python3.9/site-packages (from nltk) (4.62.3)\n"
     ]
    }
   ],
   "source": [
    "!pip install nltk"
   ]
  },
  {
   "cell_type": "code",
   "execution_count": 2,
   "id": "a61c4b9b",
   "metadata": {},
   "outputs": [],
   "source": [
    "import pandas as pd\n",
    "import numpy as np\n",
    "import tensorflow as tf\n",
    "import string\n",
    "import nltk\n",
    "from nltk.corpus import stopwords\n",
    "from nltk.stem import PorterStemmer\n",
    "from sklearn.pipeline import Pipeline\n",
    "from sklearn.feature_extraction.text import TfidfVectorizer\n",
    "from sklearn.neural_network import MLPClassifier\n",
    "from sklearn.naive_bayes import MultinomialNB\n",
    "from sklearn.ensemble import RandomForestClassifier, AdaBoostClassifier\n",
    "from sklearn.decomposition import PCA\n",
    "import re"
   ]
  },
  {
   "cell_type": "code",
   "execution_count": 3,
   "id": "8ef338ee",
   "metadata": {},
   "outputs": [
    {
     "name": "stderr",
     "output_type": "stream",
     "text": [
      "[nltk_data] Downloading package stopwords to\n",
      "[nltk_data]     /Users/sounishnath/nltk_data...\n",
      "[nltk_data]   Package stopwords is already up-to-date!\n"
     ]
    }
   ],
   "source": [
    "nltk.download('stopwords')\n",
    "porter_stemmer = PorterStemmer()\n",
    "stop_words = set(stopwords.words(\"english\"))"
   ]
  },
  {
   "cell_type": "code",
   "execution_count": 4,
   "id": "c2271b6d",
   "metadata": {},
   "outputs": [],
   "source": [
    "df = pd.read_csv(r\"./train.tsv\", sep=\"\\t\", usecols=[\"Phrase\", \"Sentiment\"])"
   ]
  },
  {
   "cell_type": "code",
   "execution_count": 5,
   "id": "1357e616",
   "metadata": {},
   "outputs": [],
   "source": [
    "df[\"Phrase\"] = df[\"Phrase\"].astype(np.str)"
   ]
  },
  {
   "cell_type": "code",
   "execution_count": 6,
   "id": "6ce73995",
   "metadata": {},
   "outputs": [
    {
     "data": {
      "text/html": [
       "<div>\n",
       "<style scoped>\n",
       "    .dataframe tbody tr th:only-of-type {\n",
       "        vertical-align: middle;\n",
       "    }\n",
       "\n",
       "    .dataframe tbody tr th {\n",
       "        vertical-align: top;\n",
       "    }\n",
       "\n",
       "    .dataframe thead th {\n",
       "        text-align: right;\n",
       "    }\n",
       "</style>\n",
       "<table border=\"1\" class=\"dataframe\">\n",
       "  <thead>\n",
       "    <tr style=\"text-align: right;\">\n",
       "      <th></th>\n",
       "      <th>Phrase</th>\n",
       "      <th>Sentiment</th>\n",
       "    </tr>\n",
       "  </thead>\n",
       "  <tbody>\n",
       "    <tr>\n",
       "      <th>0</th>\n",
       "      <td>A series of escapades demonstrating the adage ...</td>\n",
       "      <td>1</td>\n",
       "    </tr>\n",
       "    <tr>\n",
       "      <th>1</th>\n",
       "      <td>A series of escapades demonstrating the adage ...</td>\n",
       "      <td>2</td>\n",
       "    </tr>\n",
       "    <tr>\n",
       "      <th>2</th>\n",
       "      <td>A series</td>\n",
       "      <td>2</td>\n",
       "    </tr>\n",
       "    <tr>\n",
       "      <th>3</th>\n",
       "      <td>A</td>\n",
       "      <td>2</td>\n",
       "    </tr>\n",
       "    <tr>\n",
       "      <th>4</th>\n",
       "      <td>series</td>\n",
       "      <td>2</td>\n",
       "    </tr>\n",
       "  </tbody>\n",
       "</table>\n",
       "</div>"
      ],
      "text/plain": [
       "                                              Phrase  Sentiment\n",
       "0  A series of escapades demonstrating the adage ...          1\n",
       "1  A series of escapades demonstrating the adage ...          2\n",
       "2                                           A series          2\n",
       "3                                                  A          2\n",
       "4                                             series          2"
      ]
     },
     "execution_count": 6,
     "metadata": {},
     "output_type": "execute_result"
    }
   ],
   "source": [
    "df.head()"
   ]
  },
  {
   "cell_type": "code",
   "execution_count": 7,
   "id": "cc51b85e",
   "metadata": {},
   "outputs": [],
   "source": [
    "def preprocess_text (text):\n",
    "    text = \" \".join(text.split(\" \"))\n",
    "    tokens = re.split(\"\\W+\", text.lower())\n",
    "    tokens = [w for w in tokens if not w in stop_words]\n",
    "    text = \" \".join([porter_stemmer.stem(w) for w in tokens if not w in string.punctuation and w.isalpha() ])\n",
    "    return text"
   ]
  },
  {
   "cell_type": "code",
   "execution_count": 8,
   "id": "e780e169",
   "metadata": {},
   "outputs": [],
   "source": [
    "df[\"stemmed\"] = df[\"Phrase\"].apply(preprocess_text)"
   ]
  },
  {
   "cell_type": "code",
   "execution_count": 9,
   "id": "16837c75",
   "metadata": {},
   "outputs": [
    {
     "data": {
      "text/html": [
       "<div>\n",
       "<style scoped>\n",
       "    .dataframe tbody tr th:only-of-type {\n",
       "        vertical-align: middle;\n",
       "    }\n",
       "\n",
       "    .dataframe tbody tr th {\n",
       "        vertical-align: top;\n",
       "    }\n",
       "\n",
       "    .dataframe thead th {\n",
       "        text-align: right;\n",
       "    }\n",
       "</style>\n",
       "<table border=\"1\" class=\"dataframe\">\n",
       "  <thead>\n",
       "    <tr style=\"text-align: right;\">\n",
       "      <th></th>\n",
       "      <th>Phrase</th>\n",
       "      <th>Sentiment</th>\n",
       "      <th>stemmed</th>\n",
       "    </tr>\n",
       "  </thead>\n",
       "  <tbody>\n",
       "    <tr>\n",
       "      <th>0</th>\n",
       "      <td>A series of escapades demonstrating the adage ...</td>\n",
       "      <td>1</td>\n",
       "      <td>seri escapad demonstr adag good goos also good...</td>\n",
       "    </tr>\n",
       "    <tr>\n",
       "      <th>1</th>\n",
       "      <td>A series of escapades demonstrating the adage ...</td>\n",
       "      <td>2</td>\n",
       "      <td>seri escapad demonstr adag good goos</td>\n",
       "    </tr>\n",
       "    <tr>\n",
       "      <th>2</th>\n",
       "      <td>A series</td>\n",
       "      <td>2</td>\n",
       "      <td>seri</td>\n",
       "    </tr>\n",
       "    <tr>\n",
       "      <th>3</th>\n",
       "      <td>A</td>\n",
       "      <td>2</td>\n",
       "      <td></td>\n",
       "    </tr>\n",
       "    <tr>\n",
       "      <th>4</th>\n",
       "      <td>series</td>\n",
       "      <td>2</td>\n",
       "      <td>seri</td>\n",
       "    </tr>\n",
       "  </tbody>\n",
       "</table>\n",
       "</div>"
      ],
      "text/plain": [
       "                                              Phrase  Sentiment  \\\n",
       "0  A series of escapades demonstrating the adage ...          1   \n",
       "1  A series of escapades demonstrating the adage ...          2   \n",
       "2                                           A series          2   \n",
       "3                                                  A          2   \n",
       "4                                             series          2   \n",
       "\n",
       "                                             stemmed  \n",
       "0  seri escapad demonstr adag good goos also good...  \n",
       "1               seri escapad demonstr adag good goos  \n",
       "2                                               seri  \n",
       "3                                                     \n",
       "4                                               seri  "
      ]
     },
     "execution_count": 9,
     "metadata": {},
     "output_type": "execute_result"
    }
   ],
   "source": [
    "df.head()"
   ]
  },
  {
   "cell_type": "code",
   "execution_count": 10,
   "id": "9cca6a56",
   "metadata": {},
   "outputs": [],
   "source": [
    "tfidf_vectorizer = TfidfVectorizer(\n",
    "        stop_words=stop_words, \n",
    "        ngram_range=(1, 1),\n",
    "        max_df=0.60,\n",
    "        min_df=2,\n",
    "        max_features=2000,\n",
    "    )"
   ]
  },
  {
   "cell_type": "code",
   "execution_count": 11,
   "id": "8577d276",
   "metadata": {},
   "outputs": [],
   "source": [
    "stemmed_transformed = tfidf_vectorizer.fit_transform(df[\"stemmed\"])"
   ]
  },
  {
   "cell_type": "code",
   "execution_count": 12,
   "id": "6c2dd91c",
   "metadata": {},
   "outputs": [],
   "source": [
    "vectors = np.asarray( stemmed_transformed.todense() )"
   ]
  },
  {
   "cell_type": "code",
   "execution_count": 13,
   "id": "8ce21c98",
   "metadata": {},
   "outputs": [
    {
     "data": {
      "text/plain": [
       "array([1, 2, 3, 4, 0])"
      ]
     },
     "execution_count": 13,
     "metadata": {},
     "output_type": "execute_result"
    }
   ],
   "source": [
    "df[\"Sentiment\"].unique()"
   ]
  },
  {
   "cell_type": "code",
   "execution_count": 14,
   "id": "01a78f11",
   "metadata": {},
   "outputs": [],
   "source": [
    "pca = PCA(n_components=50, random_state=42)"
   ]
  },
  {
   "cell_type": "code",
   "execution_count": 15,
   "id": "c3b53878",
   "metadata": {},
   "outputs": [
    {
     "name": "stdout",
     "output_type": "stream",
     "text": [
      "CPU times: user 1min 33s, sys: 7.37 s, total: 1min 40s\n",
      "Wall time: 19.1 s\n"
     ]
    },
    {
     "data": {
      "text/plain": [
       "array([[-7.84604497e-03, -1.50104254e-02, -1.40385565e-03, ...,\n",
       "         2.17950234e-03,  1.15091543e-03, -1.08622871e-02],\n",
       "       [-6.40901112e-03, -1.13758912e-02, -1.10705090e-03, ...,\n",
       "        -4.27874535e-03, -1.13712810e-03, -9.87729427e-03],\n",
       "       [-9.61217892e-03, -1.98493738e-02, -1.06362269e-02, ...,\n",
       "        -5.48398638e-03, -4.34576643e-03, -9.34262656e-03],\n",
       "       ...,\n",
       "       [-9.79631994e-03, -2.27641468e-02, -9.62730587e-03, ...,\n",
       "         1.51770691e-06, -2.24791711e-04, -3.41138740e-03],\n",
       "       [-9.79631994e-03, -2.27641468e-02, -9.62730587e-03, ...,\n",
       "         1.51770691e-06, -2.24791711e-04, -3.41138740e-03],\n",
       "       [-9.79631994e-03, -2.27641468e-02, -9.62730587e-03, ...,\n",
       "         1.51770691e-06, -2.24791711e-04, -3.41138740e-03]])"
      ]
     },
     "execution_count": 15,
     "metadata": {},
     "output_type": "execute_result"
    }
   ],
   "source": [
    "%%time\n",
    "vv = pca.fit_transform(vectors)\n",
    "vv"
   ]
  },
  {
   "cell_type": "code",
   "execution_count": 16,
   "id": "7218065a",
   "metadata": {},
   "outputs": [],
   "source": [
    "from sklearn.preprocessing import MinMaxScaler\n",
    "scalar = MinMaxScaler()\n",
    "vv_scale = scalar.fit_transform(vv)"
   ]
  },
  {
   "cell_type": "code",
   "execution_count": null,
   "id": "65c73375",
   "metadata": {},
   "outputs": [],
   "source": [
    "%%time\n",
    "mlp_model = MLPClassifier(random_state=42)\n",
    "mlp_model.fit(vv_scale, df[\"Sentiment\"])\n",
    "mlp_model.score(vv_scale, df[\"Sentiment\"])"
   ]
  },
  {
   "cell_type": "code",
   "execution_count": null,
   "id": "54757ea1",
   "metadata": {},
   "outputs": [],
   "source": [
    "multinomial_model = MultinomialNB()\n",
    "multinomial_model.fit(vv_scale, df[\"Sentiment\"])\n",
    "multinomial_model.score(vv_scale, df[\"Sentiment\"])"
   ]
  },
  {
   "cell_type": "code",
   "execution_count": null,
   "id": "2bbbf207",
   "metadata": {},
   "outputs": [],
   "source": [
    "random_forest_clf = RandomForestClassifier(max_depth=20, random_state=42, n_estimators=600)\n",
    "random_forest_clf.fit(vv_scale, df[\"Sentiment\"])\n",
    "random_forest_clf.score(vv_scale, df[\"Sentiment\"])"
   ]
  },
  {
   "cell_type": "code",
   "execution_count": null,
   "id": "79c30198",
   "metadata": {},
   "outputs": [],
   "source": [
    "adaboosted_clf = AdaBoostClassifier(\n",
    "    base_model=RandomForestClassifier(max_depth=20),\n",
    "    n_estimators=600,\n",
    "    learning_rate=1.5,\n",
    "    algorithm=\"SAMME\",\n",
    ")\n",
    "adaboosted_clf.fit(vv_scale, df[\"Sentiment\"])\n",
    "adaboosted_clf.score(vv_scale, df[\"Sentiment\"])"
   ]
  },
  {
   "cell_type": "code",
   "execution_count": null,
   "id": "9f6d691f",
   "metadata": {},
   "outputs": [],
   "source": [
    "test = df[df.index == 1032]\n",
    "test"
   ]
  },
  {
   "cell_type": "code",
   "execution_count": null,
   "id": "c47f09a7",
   "metadata": {},
   "outputs": [],
   "source": [
    "xx = test[\"Phrase\"].values[0]\n",
    "xx"
   ]
  },
  {
   "cell_type": "code",
   "execution_count": null,
   "id": "0b3e4d95",
   "metadata": {},
   "outputs": [],
   "source": [
    "%%time\n",
    "testt = preprocess_text(xx)\n",
    "test_vectors = tfidf_vectorizer.transform([testt]).todense()\n",
    "test_vectors = pca.transform(test_vectors.copy())"
   ]
  },
  {
   "cell_type": "code",
   "execution_count": null,
   "id": "c4eebe7b",
   "metadata": {},
   "outputs": [],
   "source": [
    "mlp_model.predict(test_vectors)"
   ]
  },
  {
   "cell_type": "code",
   "execution_count": null,
   "id": "6e69570b",
   "metadata": {},
   "outputs": [],
   "source": [
    "import tensorflow as tf"
   ]
  },
  {
   "cell_type": "code",
   "execution_count": null,
   "id": "1382c5f2",
   "metadata": {},
   "outputs": [],
   "source": [
    "tf_model = tf.keras.Sequential(layers=[\n",
    "    tf.keras.layers.Dense(50, input_dim=50, activation=\"relu\"),\n",
    "    tf.keras.layers.Dense(128, activation=\"relu\"),\n",
    "    tf.keras.layers.Dense(32, activation=\"relu\"),\n",
    "    tf.keras.layers.Dense(1, activation=\"relu\"),\n",
    "])"
   ]
  },
  {
   "cell_type": "code",
   "execution_count": null,
   "id": "adae8a72",
   "metadata": {},
   "outputs": [],
   "source": [
    "tf_model.compile(optimizer=\"adam\", metrics=[\"precision\", \"recall\", \"mape\"], loss=[\"mse\"])"
   ]
  },
  {
   "cell_type": "code",
   "execution_count": null,
   "id": "c435b195",
   "metadata": {},
   "outputs": [],
   "source": [
    "tf_model.fit(vv_scale, df[\"Sentiment\"].values, epochs=2)"
   ]
  },
  {
   "cell_type": "code",
   "execution_count": null,
   "id": "9acec860",
   "metadata": {},
   "outputs": [],
   "source": [
    "tf_model.predict(test_vectors)"
   ]
  },
  {
   "cell_type": "code",
   "execution_count": null,
   "id": "b1c861dd",
   "metadata": {},
   "outputs": [],
   "source": [
    "tf_preds = np.round(tf_model.predict(vv_scale))"
   ]
  },
  {
   "cell_type": "code",
   "execution_count": null,
   "id": "30fd7fa1",
   "metadata": {},
   "outputs": [],
   "source": [
    "from sklearn.metrics import classification_report\n",
    "\n",
    "classification_report(df[\"Sentiment\"], tf_preds)"
   ]
  },
  {
   "cell_type": "code",
   "execution_count": null,
   "id": "1610fa08",
   "metadata": {},
   "outputs": [],
   "source": [
    "from sklearn.metrics import accuracy_score, precision_score, recall_score\n",
    "\n",
    "print(f'Accuracy: {accuracy_score(df[\"Sentiment\"], tf_preds):.2f}')\n",
    "print(f'Precision: {precision_score(df[\"Sentiment\"], tf_preds):.2f}')\n",
    "print(f'Recall: {recall_score(df[\"Sentiment\"], tf_preds):.2f}')"
   ]
  },
  {
   "cell_type": "code",
   "execution_count": null,
   "id": "21355502",
   "metadata": {},
   "outputs": [],
   "source": []
  }
 ],
 "metadata": {
  "interpreter": {
   "hash": "b720f541ee79861b80893adc25b13611b3c37bb541fefad074bdb1cbb0d9a81c"
  },
  "kernelspec": {
   "display_name": "Python 3 (ipykernel)",
   "language": "python",
   "name": "python3"
  },
  "language_info": {
   "codemirror_mode": {
    "name": "ipython",
    "version": 3
   },
   "file_extension": ".py",
   "mimetype": "text/x-python",
   "name": "python",
   "nbconvert_exporter": "python",
   "pygments_lexer": "ipython3",
   "version": "3.9.7"
  }
 },
 "nbformat": 4,
 "nbformat_minor": 5
}
