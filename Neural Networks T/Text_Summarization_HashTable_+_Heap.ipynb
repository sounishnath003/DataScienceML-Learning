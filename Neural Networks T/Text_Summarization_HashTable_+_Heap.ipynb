{
  "nbformat": 4,
  "nbformat_minor": 0,
  "metadata": {
    "colab": {
      "name": "Text Summarization - HashTable + Heap.ipynb",
      "provenance": [],
      "collapsed_sections": []
    },
    "kernelspec": {
      "name": "python3",
      "display_name": "Python 3"
    },
    "language_info": {
      "name": "python"
    },
    "accelerator": "GPU"
  },
  "cells": [
    {
      "cell_type": "code",
      "metadata": {
        "colab": {
          "base_uri": "https://localhost:8080/"
        },
        "id": "-h_9lzYxOzOu",
        "outputId": "1c426012-f6d1-414e-b6a7-5986da396271"
      },
      "source": [
        "!pip install -U spacy\n",
        "!python -m spacy download en_core_web_sm"
      ],
      "execution_count": 1,
      "outputs": [
        {
          "output_type": "stream",
          "name": "stdout",
          "text": [
            "Requirement already satisfied: spacy in /usr/local/lib/python3.7/dist-packages (3.2.0)\n",
            "Requirement already satisfied: catalogue<2.1.0,>=2.0.6 in /usr/local/lib/python3.7/dist-packages (from spacy) (2.0.6)\n",
            "Requirement already satisfied: pydantic!=1.8,!=1.8.1,<1.9.0,>=1.7.4 in /usr/local/lib/python3.7/dist-packages (from spacy) (1.8.2)\n",
            "Requirement already satisfied: numpy>=1.15.0 in /usr/local/lib/python3.7/dist-packages (from spacy) (1.19.5)\n",
            "Requirement already satisfied: jinja2 in /usr/local/lib/python3.7/dist-packages (from spacy) (2.11.3)\n",
            "Requirement already satisfied: thinc<8.1.0,>=8.0.12 in /usr/local/lib/python3.7/dist-packages (from spacy) (8.0.13)\n",
            "Requirement already satisfied: preshed<3.1.0,>=3.0.2 in /usr/local/lib/python3.7/dist-packages (from spacy) (3.0.6)\n",
            "Requirement already satisfied: setuptools in /usr/local/lib/python3.7/dist-packages (from spacy) (57.4.0)\n",
            "Requirement already satisfied: blis<0.8.0,>=0.4.0 in /usr/local/lib/python3.7/dist-packages (from spacy) (0.4.1)\n",
            "Requirement already satisfied: cymem<2.1.0,>=2.0.2 in /usr/local/lib/python3.7/dist-packages (from spacy) (2.0.6)\n",
            "Requirement already satisfied: typer<0.5.0,>=0.3.0 in /usr/local/lib/python3.7/dist-packages (from spacy) (0.4.0)\n",
            "Requirement already satisfied: pathy>=0.3.5 in /usr/local/lib/python3.7/dist-packages (from spacy) (0.6.1)\n",
            "Requirement already satisfied: spacy-legacy<3.1.0,>=3.0.8 in /usr/local/lib/python3.7/dist-packages (from spacy) (3.0.8)\n",
            "Requirement already satisfied: spacy-loggers<2.0.0,>=1.0.0 in /usr/local/lib/python3.7/dist-packages (from spacy) (1.0.1)\n",
            "Requirement already satisfied: srsly<3.0.0,>=2.4.1 in /usr/local/lib/python3.7/dist-packages (from spacy) (2.4.2)\n",
            "Requirement already satisfied: murmurhash<1.1.0,>=0.28.0 in /usr/local/lib/python3.7/dist-packages (from spacy) (1.0.6)\n",
            "Requirement already satisfied: langcodes<4.0.0,>=3.2.0 in /usr/local/lib/python3.7/dist-packages (from spacy) (3.3.0)\n",
            "Requirement already satisfied: packaging>=20.0 in /usr/local/lib/python3.7/dist-packages (from spacy) (21.3)\n",
            "Requirement already satisfied: requests<3.0.0,>=2.13.0 in /usr/local/lib/python3.7/dist-packages (from spacy) (2.23.0)\n",
            "Requirement already satisfied: typing-extensions<4.0.0.0,>=3.7.4 in /usr/local/lib/python3.7/dist-packages (from spacy) (3.10.0.2)\n",
            "Requirement already satisfied: tqdm<5.0.0,>=4.38.0 in /usr/local/lib/python3.7/dist-packages (from spacy) (4.62.3)\n",
            "Requirement already satisfied: wasabi<1.1.0,>=0.8.1 in /usr/local/lib/python3.7/dist-packages (from spacy) (0.8.2)\n",
            "Requirement already satisfied: zipp>=0.5 in /usr/local/lib/python3.7/dist-packages (from catalogue<2.1.0,>=2.0.6->spacy) (3.6.0)\n",
            "Requirement already satisfied: pyparsing!=3.0.5,>=2.0.2 in /usr/local/lib/python3.7/dist-packages (from packaging>=20.0->spacy) (3.0.6)\n",
            "Requirement already satisfied: smart-open<6.0.0,>=5.0.0 in /usr/local/lib/python3.7/dist-packages (from pathy>=0.3.5->spacy) (5.2.1)\n",
            "Requirement already satisfied: urllib3!=1.25.0,!=1.25.1,<1.26,>=1.21.1 in /usr/local/lib/python3.7/dist-packages (from requests<3.0.0,>=2.13.0->spacy) (1.24.3)\n",
            "Requirement already satisfied: certifi>=2017.4.17 in /usr/local/lib/python3.7/dist-packages (from requests<3.0.0,>=2.13.0->spacy) (2021.10.8)\n",
            "Requirement already satisfied: idna<3,>=2.5 in /usr/local/lib/python3.7/dist-packages (from requests<3.0.0,>=2.13.0->spacy) (2.10)\n",
            "Requirement already satisfied: chardet<4,>=3.0.2 in /usr/local/lib/python3.7/dist-packages (from requests<3.0.0,>=2.13.0->spacy) (3.0.4)\n",
            "Requirement already satisfied: click<9.0.0,>=7.1.1 in /usr/local/lib/python3.7/dist-packages (from typer<0.5.0,>=0.3.0->spacy) (7.1.2)\n",
            "Requirement already satisfied: MarkupSafe>=0.23 in /usr/local/lib/python3.7/dist-packages (from jinja2->spacy) (2.0.1)\n",
            "Collecting en-core-web-sm==3.2.0\n",
            "  Downloading https://github.com/explosion/spacy-models/releases/download/en_core_web_sm-3.2.0/en_core_web_sm-3.2.0-py3-none-any.whl (13.9 MB)\n",
            "\u001b[K     |████████████████████████████████| 13.9 MB 1.7 MB/s \n",
            "\u001b[?25hRequirement already satisfied: spacy<3.3.0,>=3.2.0 in /usr/local/lib/python3.7/dist-packages (from en-core-web-sm==3.2.0) (3.2.0)\n",
            "Requirement already satisfied: pathy>=0.3.5 in /usr/local/lib/python3.7/dist-packages (from spacy<3.3.0,>=3.2.0->en-core-web-sm==3.2.0) (0.6.1)\n",
            "Requirement already satisfied: langcodes<4.0.0,>=3.2.0 in /usr/local/lib/python3.7/dist-packages (from spacy<3.3.0,>=3.2.0->en-core-web-sm==3.2.0) (3.3.0)\n",
            "Requirement already satisfied: srsly<3.0.0,>=2.4.1 in /usr/local/lib/python3.7/dist-packages (from spacy<3.3.0,>=3.2.0->en-core-web-sm==3.2.0) (2.4.2)\n",
            "Requirement already satisfied: tqdm<5.0.0,>=4.38.0 in /usr/local/lib/python3.7/dist-packages (from spacy<3.3.0,>=3.2.0->en-core-web-sm==3.2.0) (4.62.3)\n",
            "Requirement already satisfied: typer<0.5.0,>=0.3.0 in /usr/local/lib/python3.7/dist-packages (from spacy<3.3.0,>=3.2.0->en-core-web-sm==3.2.0) (0.4.0)\n",
            "Requirement already satisfied: cymem<2.1.0,>=2.0.2 in /usr/local/lib/python3.7/dist-packages (from spacy<3.3.0,>=3.2.0->en-core-web-sm==3.2.0) (2.0.6)\n",
            "Requirement already satisfied: murmurhash<1.1.0,>=0.28.0 in /usr/local/lib/python3.7/dist-packages (from spacy<3.3.0,>=3.2.0->en-core-web-sm==3.2.0) (1.0.6)\n",
            "Requirement already satisfied: setuptools in /usr/local/lib/python3.7/dist-packages (from spacy<3.3.0,>=3.2.0->en-core-web-sm==3.2.0) (57.4.0)\n",
            "Requirement already satisfied: packaging>=20.0 in /usr/local/lib/python3.7/dist-packages (from spacy<3.3.0,>=3.2.0->en-core-web-sm==3.2.0) (21.3)\n",
            "Requirement already satisfied: spacy-legacy<3.1.0,>=3.0.8 in /usr/local/lib/python3.7/dist-packages (from spacy<3.3.0,>=3.2.0->en-core-web-sm==3.2.0) (3.0.8)\n",
            "Requirement already satisfied: numpy>=1.15.0 in /usr/local/lib/python3.7/dist-packages (from spacy<3.3.0,>=3.2.0->en-core-web-sm==3.2.0) (1.19.5)\n",
            "Requirement already satisfied: blis<0.8.0,>=0.4.0 in /usr/local/lib/python3.7/dist-packages (from spacy<3.3.0,>=3.2.0->en-core-web-sm==3.2.0) (0.4.1)\n",
            "Requirement already satisfied: pydantic!=1.8,!=1.8.1,<1.9.0,>=1.7.4 in /usr/local/lib/python3.7/dist-packages (from spacy<3.3.0,>=3.2.0->en-core-web-sm==3.2.0) (1.8.2)\n",
            "Requirement already satisfied: requests<3.0.0,>=2.13.0 in /usr/local/lib/python3.7/dist-packages (from spacy<3.3.0,>=3.2.0->en-core-web-sm==3.2.0) (2.23.0)\n",
            "Requirement already satisfied: thinc<8.1.0,>=8.0.12 in /usr/local/lib/python3.7/dist-packages (from spacy<3.3.0,>=3.2.0->en-core-web-sm==3.2.0) (8.0.13)\n",
            "Requirement already satisfied: typing-extensions<4.0.0.0,>=3.7.4 in /usr/local/lib/python3.7/dist-packages (from spacy<3.3.0,>=3.2.0->en-core-web-sm==3.2.0) (3.10.0.2)\n",
            "Requirement already satisfied: spacy-loggers<2.0.0,>=1.0.0 in /usr/local/lib/python3.7/dist-packages (from spacy<3.3.0,>=3.2.0->en-core-web-sm==3.2.0) (1.0.1)\n",
            "Requirement already satisfied: wasabi<1.1.0,>=0.8.1 in /usr/local/lib/python3.7/dist-packages (from spacy<3.3.0,>=3.2.0->en-core-web-sm==3.2.0) (0.8.2)\n",
            "Requirement already satisfied: catalogue<2.1.0,>=2.0.6 in /usr/local/lib/python3.7/dist-packages (from spacy<3.3.0,>=3.2.0->en-core-web-sm==3.2.0) (2.0.6)\n",
            "Requirement already satisfied: preshed<3.1.0,>=3.0.2 in /usr/local/lib/python3.7/dist-packages (from spacy<3.3.0,>=3.2.0->en-core-web-sm==3.2.0) (3.0.6)\n",
            "Requirement already satisfied: jinja2 in /usr/local/lib/python3.7/dist-packages (from spacy<3.3.0,>=3.2.0->en-core-web-sm==3.2.0) (2.11.3)\n",
            "Requirement already satisfied: zipp>=0.5 in /usr/local/lib/python3.7/dist-packages (from catalogue<2.1.0,>=2.0.6->spacy<3.3.0,>=3.2.0->en-core-web-sm==3.2.0) (3.6.0)\n",
            "Requirement already satisfied: pyparsing!=3.0.5,>=2.0.2 in /usr/local/lib/python3.7/dist-packages (from packaging>=20.0->spacy<3.3.0,>=3.2.0->en-core-web-sm==3.2.0) (3.0.6)\n",
            "Requirement already satisfied: smart-open<6.0.0,>=5.0.0 in /usr/local/lib/python3.7/dist-packages (from pathy>=0.3.5->spacy<3.3.0,>=3.2.0->en-core-web-sm==3.2.0) (5.2.1)\n",
            "Requirement already satisfied: idna<3,>=2.5 in /usr/local/lib/python3.7/dist-packages (from requests<3.0.0,>=2.13.0->spacy<3.3.0,>=3.2.0->en-core-web-sm==3.2.0) (2.10)\n",
            "Requirement already satisfied: urllib3!=1.25.0,!=1.25.1,<1.26,>=1.21.1 in /usr/local/lib/python3.7/dist-packages (from requests<3.0.0,>=2.13.0->spacy<3.3.0,>=3.2.0->en-core-web-sm==3.2.0) (1.24.3)\n",
            "Requirement already satisfied: chardet<4,>=3.0.2 in /usr/local/lib/python3.7/dist-packages (from requests<3.0.0,>=2.13.0->spacy<3.3.0,>=3.2.0->en-core-web-sm==3.2.0) (3.0.4)\n",
            "Requirement already satisfied: certifi>=2017.4.17 in /usr/local/lib/python3.7/dist-packages (from requests<3.0.0,>=2.13.0->spacy<3.3.0,>=3.2.0->en-core-web-sm==3.2.0) (2021.10.8)\n",
            "Requirement already satisfied: click<9.0.0,>=7.1.1 in /usr/local/lib/python3.7/dist-packages (from typer<0.5.0,>=0.3.0->spacy<3.3.0,>=3.2.0->en-core-web-sm==3.2.0) (7.1.2)\n",
            "Requirement already satisfied: MarkupSafe>=0.23 in /usr/local/lib/python3.7/dist-packages (from jinja2->spacy<3.3.0,>=3.2.0->en-core-web-sm==3.2.0) (2.0.1)\n",
            "\u001b[38;5;2m✔ Download and installation successful\u001b[0m\n",
            "You can now load the package via spacy.load('en_core_web_sm')\n"
          ]
        }
      ]
    },
    {
      "cell_type": "code",
      "metadata": {
        "id": "pDhBqJ7KQg8i"
      },
      "source": [
        "with open(\"data\", \"r\") as f:\n",
        "  DATA = f.read()"
      ],
      "execution_count": 2,
      "outputs": []
    },
    {
      "cell_type": "code",
      "metadata": {
        "id": "DLK-dUV5PIHG"
      },
      "source": [
        "import spacy\n",
        "from spacy.lang.en.stop_words import STOP_WORDS\n",
        "import string\n",
        "import re\n",
        "from collections import Counter"
      ],
      "execution_count": 3,
      "outputs": []
    },
    {
      "cell_type": "code",
      "metadata": {
        "id": "OPrXmWV3PgS8"
      },
      "source": [
        "stopwords = set(STOP_WORDS)"
      ],
      "execution_count": 4,
      "outputs": []
    },
    {
      "cell_type": "code",
      "metadata": {
        "id": "ejn2hkRsPtDi"
      },
      "source": [
        "nlp = spacy.load(\"en_core_web_sm\")"
      ],
      "execution_count": 5,
      "outputs": []
    },
    {
      "cell_type": "code",
      "metadata": {
        "id": "EJuKibN2QHMB"
      },
      "source": [
        "doc = nlp(DATA)"
      ],
      "execution_count": 6,
      "outputs": []
    },
    {
      "cell_type": "code",
      "metadata": {
        "id": "3mLphp_vQz7_"
      },
      "source": [
        "tokens = [token.text.lower() for token in doc if token.text.isalpha() and not token.text in set(string.punctuation) ]"
      ],
      "execution_count": 7,
      "outputs": []
    },
    {
      "cell_type": "code",
      "metadata": {
        "id": "iW9zkplTRMyc"
      },
      "source": [
        "word_freq = Counter(tokens)"
      ],
      "execution_count": 8,
      "outputs": []
    },
    {
      "cell_type": "code",
      "metadata": {
        "colab": {
          "base_uri": "https://localhost:8080/"
        },
        "id": "XH8iFmuuRtXV",
        "outputId": "d3bd7921-aa11-4cbb-c6a2-8cb3749a4dc0"
      },
      "source": [
        "max_freq = max(word_freq.values())\n",
        "max_freq"
      ],
      "execution_count": 9,
      "outputs": [
        {
          "output_type": "execute_result",
          "data": {
            "text/plain": [
              "40"
            ]
          },
          "metadata": {},
          "execution_count": 9
        }
      ]
    },
    {
      "cell_type": "code",
      "metadata": {
        "id": "UXCDE07oSAd4"
      },
      "source": [
        "word_freqq = { key: word_freq.get(key) / max_freq for key in word_freq.keys() }\n",
        "word_freq = word_freqq"
      ],
      "execution_count": 10,
      "outputs": []
    },
    {
      "cell_type": "code",
      "metadata": {
        "colab": {
          "base_uri": "https://localhost:8080/"
        },
        "id": "O5ldmHBESTmO",
        "outputId": "f049785f-6220-4dd3-e5b1-b3fefe05e524"
      },
      "source": [
        "word_freq"
      ],
      "execution_count": 11,
      "outputs": [
        {
          "output_type": "execute_result",
          "data": {
            "text/plain": [
              "{'a': 0.15,\n",
              " 'able': 0.025,\n",
              " 'about': 0.025,\n",
              " 'above': 0.025,\n",
              " 'according': 0.05,\n",
              " 'active': 0.025,\n",
              " 'age': 0.05,\n",
              " 'ailments': 0.025,\n",
              " 'alert': 0.025,\n",
              " 'all': 0.075,\n",
              " 'also': 0.075,\n",
              " 'amount': 0.05,\n",
              " 'amounts': 0.025,\n",
              " 'an': 0.05,\n",
              " 'and': 0.8,\n",
              " 'any': 0.025,\n",
              " 'are': 0.125,\n",
              " 'arteries': 0.05,\n",
              " 'as': 0.1,\n",
              " 'ask': 0.025,\n",
              " 'at': 0.075,\n",
              " 'attack': 0.05,\n",
              " 'attracted': 0.025,\n",
              " 'avoid': 0.025,\n",
              " 'avoided': 0.025,\n",
              " 'bad': 0.075,\n",
              " 'baked': 0.025,\n",
              " 'be': 0.05,\n",
              " 'because': 0.1,\n",
              " 'become': 0.15,\n",
              " 'becomes': 0.025,\n",
              " 'becoming': 0.025,\n",
              " 'been': 0.075,\n",
              " 'being': 0.05,\n",
              " 'better': 0.025,\n",
              " 'blood': 0.125,\n",
              " 'body': 0.125,\n",
              " 'buds': 0.025,\n",
              " 'burgers': 0.05,\n",
              " 'by': 0.175,\n",
              " 'called': 0.025,\n",
              " 'calorie': 0.05,\n",
              " 'calories': 0.025,\n",
              " 'can': 0.075,\n",
              " 'candy': 0.05,\n",
              " 'carbohydrate': 0.025,\n",
              " 'carbohydrates': 0.025,\n",
              " 'cardiovascular': 0.05,\n",
              " 'centres': 0.025,\n",
              " 'childhood': 0.025,\n",
              " 'children': 0.1,\n",
              " 'cholesterol': 0.125,\n",
              " 'clogged': 0.025,\n",
              " 'clogs': 0.025,\n",
              " 'comes': 0.025,\n",
              " 'completely': 0.025,\n",
              " 'consequences': 0.025,\n",
              " 'constipation': 0.025,\n",
              " 'consume': 0.025,\n",
              " 'consumption': 0.025,\n",
              " 'contain': 0.025,\n",
              " 'containing': 0.025,\n",
              " 'contains': 0.025,\n",
              " 'control': 0.025,\n",
              " 'cookies': 0.05,\n",
              " 'cream': 0.025,\n",
              " 'daily': 0.075,\n",
              " 'day': 0.05,\n",
              " 'deficiencies': 0.05,\n",
              " 'deprive': 0.025,\n",
              " 'develop': 0.025,\n",
              " 'developed': 0.025,\n",
              " 'diabetes': 0.1,\n",
              " 'diet': 0.05,\n",
              " 'dietary': 0.05,\n",
              " 'different': 0.05,\n",
              " 'discussed': 0.025,\n",
              " 'disease': 0.075,\n",
              " 'diseases': 0.05,\n",
              " 'do': 0.125,\n",
              " 'does': 0.025,\n",
              " 'drinks': 0.025,\n",
              " 'due': 0.025,\n",
              " 'dull': 0.05,\n",
              " 'early': 0.025,\n",
              " 'easiest': 0.025,\n",
              " 'eat': 0.025,\n",
              " 'eating': 0.075,\n",
              " 'effects': 0.075,\n",
              " 'encouraging': 0.025,\n",
              " 'especially': 0.025,\n",
              " 'essential': 0.05,\n",
              " 'etc': 0.05,\n",
              " 'everyone': 0.025,\n",
              " 'example': 0.025,\n",
              " 'excessive': 0.025,\n",
              " 'extra': 0.025,\n",
              " 'face': 0.025,\n",
              " 'failure': 0.05,\n",
              " 'fat': 0.1,\n",
              " 'fats': 0.075,\n",
              " 'fatter': 0.025,\n",
              " 'fibers': 0.05,\n",
              " 'find': 0.05,\n",
              " 'first': 0.025,\n",
              " 'fit': 0.025,\n",
              " 'following': 0.025,\n",
              " 'food': 0.475,\n",
              " 'foods': 0.3,\n",
              " 'for': 0.1,\n",
              " 'found': 0.075,\n",
              " 'french': 0.05,\n",
              " 'fried': 0.05,\n",
              " 'fries': 0.05,\n",
              " 'from': 0.075,\n",
              " 'fulfil': 0.025,\n",
              " 'fulfilled': 0.025,\n",
              " 'functioning': 0.05,\n",
              " 'furthermore': 0.025,\n",
              " 'gain': 0.1,\n",
              " 'generally': 0.05,\n",
              " 'get': 0.025,\n",
              " 'getting': 0.025,\n",
              " 'give': 0.025,\n",
              " 'going': 0.025,\n",
              " 'good': 0.1,\n",
              " 'goods': 0.025,\n",
              " 'green': 0.05,\n",
              " 'group': 0.025,\n",
              " 'harmful': 0.05,\n",
              " 'has': 0.05,\n",
              " 'have': 0.15,\n",
              " 'health': 0.075,\n",
              " 'healthy': 0.15,\n",
              " 'heart': 0.125,\n",
              " 'help': 0.05,\n",
              " 'high': 0.25,\n",
              " 'higher': 0.025,\n",
              " 'home': 0.025,\n",
              " 'however': 0.05,\n",
              " 'ice': 0.025,\n",
              " 'ill': 0.025,\n",
              " 'illnesses': 0.025,\n",
              " 'impact': 0.075,\n",
              " 'importantly': 0.025,\n",
              " 'in': 0.55,\n",
              " 'inactive': 0.025,\n",
              " 'inactiveness': 0.025,\n",
              " 'incorporate': 0.025,\n",
              " 'increase': 0.025,\n",
              " 'increases': 0.1,\n",
              " 'increasing': 0.025,\n",
              " 'instance': 0.05,\n",
              " 'instantly': 0.05,\n",
              " 'interferes': 0.025,\n",
              " 'iron': 0.025,\n",
              " 'is': 0.375,\n",
              " 'issue': 0.025,\n",
              " 'it': 0.45,\n",
              " 'its': 0.025,\n",
              " 'junk': 0.475,\n",
              " 'kidney': 0.05,\n",
              " 'kids': 0.05,\n",
              " 'lack': 0.075,\n",
              " 'late': 0.025,\n",
              " 'later': 0.025,\n",
              " 'lead': 0.05,\n",
              " 'less': 0.025,\n",
              " 'lethargic': 0.025,\n",
              " 'lethargy': 0.025,\n",
              " 'level': 0.1,\n",
              " 'levels': 0.025,\n",
              " 'life': 0.1,\n",
              " 'like': 0.125,\n",
              " 'liked': 0.025,\n",
              " 'limited': 0.025,\n",
              " 'live': 0.025,\n",
              " 'long': 0.025,\n",
              " 'looks': 0.05,\n",
              " 'low': 0.025,\n",
              " 'main': 0.05,\n",
              " 'make': 0.075,\n",
              " 'makes': 0.05,\n",
              " 'many': 0.025,\n",
              " 'market': 0.025,\n",
              " 'may': 0.025,\n",
              " 'means': 0.025,\n",
              " 'mineral': 0.025,\n",
              " 'minerals': 0.05,\n",
              " 'mix': 0.025,\n",
              " 'more': 0.175,\n",
              " 'moreover': 0.025,\n",
              " 'most': 0.025,\n",
              " 'mostly': 0.025,\n",
              " 'must': 0.05,\n",
              " 'negative': 0.025,\n",
              " 'negatively': 0.025,\n",
              " 'never': 0.025,\n",
              " 'no': 0.025,\n",
              " 'not': 0.175,\n",
              " 'now': 0.05,\n",
              " 'nowadays': 0.025,\n",
              " 'nutrients': 0.075,\n",
              " 'nutrition': 0.025,\n",
              " 'nutritional': 0.05,\n",
              " 'obese': 0.025,\n",
              " 'obesity': 0.05,\n",
              " 'of': 0.675,\n",
              " 'on': 0.1,\n",
              " 'one': 0.1,\n",
              " 'only': 0.025,\n",
              " 'or': 0.075,\n",
              " 'other': 0.1,\n",
              " 'our': 0.025,\n",
              " 'over': 0.025,\n",
              " 'overloads': 0.025,\n",
              " 'overtime': 0.05,\n",
              " 'overweight': 0.025,\n",
              " 'packets': 0.025,\n",
              " 'parents': 0.05,\n",
              " 'people': 0.05,\n",
              " 'periods': 0.025,\n",
              " 'person': 0.075,\n",
              " 'pizza': 0.025,\n",
              " 'plus': 0.025,\n",
              " 'points': 0.025,\n",
              " 'poor': 0.025,\n",
              " 'positive': 0.025,\n",
              " 'pressure': 0.05,\n",
              " 'prevention': 0.025,\n",
              " 'problem': 0.025,\n",
              " 'processed': 0.025,\n",
              " 'prone': 0.05,\n",
              " 'protein': 0.025,\n",
              " 'put': 0.025,\n",
              " 'quantities': 0.025,\n",
              " 'rapid': 0.025,\n",
              " 'rapidly': 0.025,\n",
              " 'rather': 0.025,\n",
              " 'realize': 0.025,\n",
              " 'reasons': 0.025,\n",
              " 'recipes': 0.025,\n",
              " 'reflex': 0.025,\n",
              " 'reflexes': 0.025,\n",
              " 'regulate': 0.025,\n",
              " 'requirement': 0.025,\n",
              " 'requires': 0.025,\n",
              " 'research': 0.025,\n",
              " 'result': 0.075,\n",
              " 'rich': 0.025,\n",
              " 'risk': 0.125,\n",
              " 'ruined': 0.025,\n",
              " 'same': 0.05,\n",
              " 'saturated': 0.025,\n",
              " 'save': 0.025,\n",
              " 'school': 0.025,\n",
              " 'scientists': 0.025,\n",
              " 'sedentary': 0.025,\n",
              " 'senses': 0.025,\n",
              " 'serve': 0.025,\n",
              " 'short': 0.025,\n",
              " 'sleepiness': 0.025,\n",
              " 'sleepy': 0.025,\n",
              " 'so': 0.025,\n",
              " 'sodium': 0.1,\n",
              " 'soft': 0.025,\n",
              " 'some': 0.025,\n",
              " 'sooner': 0.025,\n",
              " 'source': 0.025,\n",
              " 'spike': 0.05,\n",
              " 'starch': 0.025,\n",
              " 'stay': 0.025,\n",
              " 'stop': 0.025,\n",
              " 'strokes': 0.025,\n",
              " 'style': 0.025,\n",
              " 'such': 0.025,\n",
              " 'sugar': 0.175,\n",
              " 'sure': 0.025,\n",
              " 'taste': 0.05,\n",
              " 'tastes': 0.05,\n",
              " 'tasty': 0.025,\n",
              " 'term': 0.025,\n",
              " 'than': 0.05,\n",
              " 'that': 0.2,\n",
              " 'the': 1.0,\n",
              " 'their': 0.1,\n",
              " 'them': 0.075,\n",
              " 'therefore': 0.05,\n",
              " 'they': 0.2,\n",
              " 'things': 0.05,\n",
              " 'this': 0.25,\n",
              " 'throughout': 0.025,\n",
              " 'thus': 0.05,\n",
              " 'time': 0.05,\n",
              " 'to': 0.475,\n",
              " 'too': 0.025,\n",
              " 'trend': 0.025,\n",
              " 'try': 0.05,\n",
              " 'types': 0.025,\n",
              " 'unable': 0.025,\n",
              " 'unhealthier': 0.025,\n",
              " 'unhealthy': 0.075,\n",
              " 'up': 0.025,\n",
              " 'us': 0.025,\n",
              " 'various': 0.025,\n",
              " 'vegetable': 0.025,\n",
              " 'vegetables': 0.025,\n",
              " 'vitamins': 0.05,\n",
              " 'way': 0.05,\n",
              " 'ways': 0.025,\n",
              " 'weight': 0.15,\n",
              " 'when': 0.05,\n",
              " 'which': 0.075,\n",
              " 'who': 0.025,\n",
              " 'whole': 0.025,\n",
              " 'why': 0.025,\n",
              " 'will': 0.175,\n",
              " 'with': 0.05,\n",
              " 'words': 0.025,\n",
              " 'works': 0.025,\n",
              " 'worse': 0.025,\n",
              " 'you': 0.2,\n",
              " 'your': 0.2}"
            ]
          },
          "metadata": {},
          "execution_count": 11
        }
      ]
    },
    {
      "cell_type": "code",
      "metadata": {
        "id": "0lkcGm-gSh9W"
      },
      "source": [
        "sentence_score = dict()\n",
        "\n",
        "for sentence in doc.sents:\n",
        "  for word in sentence:\n",
        "    if word.text.lower() in word_freq.keys():\n",
        "      if not sentence in sentence_score.keys():\n",
        "        sentence_score[sentence] = word_freq[word.text.lower()]\n",
        "      else:\n",
        "        sentence_score[sentence] += word_freq[word.text.lower()]"
      ],
      "execution_count": 12,
      "outputs": []
    },
    {
      "cell_type": "code",
      "metadata": {
        "colab": {
          "base_uri": "https://localhost:8080/"
        },
        "id": "TVQmxFhRUEJo",
        "outputId": "40c1d2a9-4cf3-4565-9fdc-29fd58b64461"
      },
      "source": [
        "sentence_score"
      ],
      "execution_count": 13,
      "outputs": [
        {
          "output_type": "execute_result",
          "data": {
            "text/plain": [
              "{'Junk foods taste good that’s why it is mostly liked by everyone of any age group especially kids and school going children.: 4.024999999999999,\n",
              " They generally ask for the junk food daily because they have been trend so by their parents from the childhood.: 4.4,\n",
              " They never have been discussed by their parents about the harmful effects of junk foods over health.: 3.5,\n",
              " According to the research by scientists, it has been found that junk foods have negative effects on the health in many ways.: 5.4,\n",
              " They are generally fried food found in the market in the packets.: 4.125,\n",
              " They become high in calories, high in cholesterol, low in healthy nutrients, high in sodium mineral, high in sugar, starch, unhealthy fat, lack of protein and lack of dietary fibers.: 7.425,\n",
              " Processed and junk foods are the means of rapid and unhealthy weight gain and negatively impact the whole body throughout the life.: 7.750000000000001,\n",
              " It makes able a person to gain excessive weight which is called as obesity.: 2.1249999999999996,\n",
              " Junk foods tastes good and looks good however do not fulfil the healthy calorie requirement of the body.: 5.2749999999999995,\n",
              " Some of the foods like french fries, fried foods, pizza, burgers, candy, soft drinks, baked goods, ice cream, cookies, etc are the example of high-sugar and high-fat containing foods.: 6.674999999999997,\n",
              " It is found according to the Centres for Disease Control and Prevention that Kids and children eating junk food are more prone to the type-2 diabetes.: 7.574999999999998,\n",
              " In type-2 diabetes our body become unable to regulate blood sugar level.: 1.8750000000000002,\n",
              " Risk of getting this disease is increasing as one become more obese or overweight.: 2.2,\n",
              " It increases the risk of kidney failure.: 2.4499999999999997,\n",
              " Eating junk food daily lead us to the nutritional deficiencies in the body because it is lack of essential nutrients, vitamins, iron, minerals and dietary fibers.: 7.249999999999999,\n",
              " It increases risk of cardiovascular diseases because it is rich in saturated fat, sodium and bad cholesterol.: 4.175000000000001,\n",
              " High sodium and bad cholesterol diet increases blood pressure and overloads the heart functioning.: 3.675,\n",
              " One who like junk food develop more risk to put on extra weight and become fatter and unhealthier.: 4.1,\n",
              " Junk foods contain high level carbohydrate which spike blood sugar level and make person more lethargic, sleepy and less active and alert.: 4.55,\n",
              " Reflexes and senses of the people eating this food become dull day by day thus they live more sedentary life.: 4.425,\n",
              " Junk foods are the source of constipation and other disease like diabetes, heart ailments, clogged arteries, heart attack, strokes, etc because of being poor in nutrition.: 5.725,\n",
              " Junk food is the easiest way to gain unhealthy weight.: 3.2,\n",
              " The amount of fats and sugar in the food makes you gain weight rapidly.: 5.325,\n",
              " However, this is not a healthy weight.: 1.2999999999999998,\n",
              " It is more of fats and cholesterol which will have a harmful impact on your health.: 3.725,\n",
              " Junk food is also one of the main reasons for the increase in obesity nowadays.: 5.0,\n",
              " This food only looks and tastes good, other than that, it has no positive points.: 2.6750000000000003,\n",
              " The amount of calorie your body requires to stay fit is not fulfilled by this food.: 4.124999999999999,\n",
              " For instance, foods like French fries, burgers, candy, and cookies, all have high amounts of sugar and fats.: 3.8499999999999996,\n",
              " Therefore, this can result in long-term illnesses like diabetes and high blood pressure.: 2.5249999999999995,\n",
              " This may also result in kidney failure.: 1.0750000000000002,\n",
              " Above all, you can get various nutritional deficiencies when you don’t consume the essential nutrients, vitamins, minerals and more.: 3.125,\n",
              " You become prone to cardiovascular diseases due to the consumption of bad cholesterol and fat plus sodium.: 4.3999999999999995,\n",
              " In other words, all this interferes with the functioning of your heart.: 3.125,\n",
              " Furthermore, junk food contains a higher level of carbohydrates.: 1.9749999999999999,\n",
              " It will instantly spike your blood sugar levels.: 1.25,\n",
              " This will result in lethargy, inactiveness, and sleepiness.: 1.9249999999999998,\n",
              " A person reflex becomes dull overtime: 0.37499999999999994,\n",
              " and they lead an inactive life.: 1.225,\n",
              " To make things worse, junk food also clogs your arteries and increases the risk of a heart attack.: 4.95,\n",
              " Therefore, it must be avoided at the first instance to save your life from becoming ruined.: 2.7,\n",
              " The main problem with junk food is that people don’t realize its ill effects now.: 3.025,\n",
              " When the time comes, it is too late.: 1.9999999999999998,\n",
              " Most importantly, the issue is that it does not impact you instantly.: 2.625,\n",
              " It works on your overtime; you will face the consequences sooner or later.: 2.375,\n",
              " Thus, it is better to stop now.: 1.45,\n",
              " You can avoid junk food by encouraging your children from an early age to eat green vegetables.: 2.5249999999999995,\n",
              " Their taste buds must be developed as such that they find healthy food tasty.: 1.525,\n",
              " Moreover, try to mix things up.: 0.6500000000000001,\n",
              " Do not serve the same green vegetable daily in the same style.: 3.15,\n",
              " Incorporate different types of healthy food in their diet following different recipes.: 2.1999999999999993,\n",
              " This will help them to try foods at home rather than being attracted to junk food.: 3.05,\n",
              " In short, do not deprive them completely of it as that will not help.: 2.8249999999999997,\n",
              " Children will find one way or the other to have it.: 2.725,\n",
              " Make sure you give them junk food in limited quantities and at healthy periods of time.: 3.7249999999999996}"
            ]
          },
          "metadata": {},
          "execution_count": 13
        }
      ]
    },
    {
      "cell_type": "code",
      "metadata": {
        "id": "JY2eP2ItULW3"
      },
      "source": [
        "from heapq import nlargest"
      ],
      "execution_count": 14,
      "outputs": []
    },
    {
      "cell_type": "code",
      "metadata": {
        "colab": {
          "base_uri": "https://localhost:8080/"
        },
        "id": "kxSw0-yfUWnR",
        "outputId": "0eeea352-00ba-44c3-f0fa-49c77f0c3b7e"
      },
      "source": [
        "select_length = int (len(sentence_score) * 0.30 )\n",
        "select_length"
      ],
      "execution_count": 15,
      "outputs": [
        {
          "output_type": "execute_result",
          "data": {
            "text/plain": [
              "16"
            ]
          },
          "metadata": {},
          "execution_count": 15
        }
      ]
    },
    {
      "cell_type": "code",
      "metadata": {
        "id": "pS9gIuihUhhs"
      },
      "source": [
        "summary = nlargest (select_length, sentence_score, key=sentence_score.get)"
      ],
      "execution_count": 16,
      "outputs": []
    },
    {
      "cell_type": "code",
      "metadata": {
        "colab": {
          "base_uri": "https://localhost:8080/"
        },
        "id": "ZwnTFrsYUxqm",
        "outputId": "15c79016-7baa-447c-d8ad-6fb0d9530f4d"
      },
      "source": [
        "summary"
      ],
      "execution_count": 17,
      "outputs": [
        {
          "output_type": "execute_result",
          "data": {
            "text/plain": [
              "[Processed and junk foods are the means of rapid and unhealthy weight gain and negatively impact the whole body throughout the life.,\n",
              " It is found according to the Centres for Disease Control and Prevention that Kids and children eating junk food are more prone to the type-2 diabetes.,\n",
              " They become high in calories, high in cholesterol, low in healthy nutrients, high in sodium mineral, high in sugar, starch, unhealthy fat, lack of protein and lack of dietary fibers.,\n",
              " Eating junk food daily lead us to the nutritional deficiencies in the body because it is lack of essential nutrients, vitamins, iron, minerals and dietary fibers.,\n",
              " Some of the foods like french fries, fried foods, pizza, burgers, candy, soft drinks, baked goods, ice cream, cookies, etc are the example of high-sugar and high-fat containing foods.,\n",
              " Junk foods are the source of constipation and other disease like diabetes, heart ailments, clogged arteries, heart attack, strokes, etc because of being poor in nutrition.,\n",
              " According to the research by scientists, it has been found that junk foods have negative effects on the health in many ways.,\n",
              " The amount of fats and sugar in the food makes you gain weight rapidly.,\n",
              " Junk foods tastes good and looks good however do not fulfil the healthy calorie requirement of the body.,\n",
              " Junk food is also one of the main reasons for the increase in obesity nowadays.,\n",
              " To make things worse, junk food also clogs your arteries and increases the risk of a heart attack.,\n",
              " Junk foods contain high level carbohydrate which spike blood sugar level and make person more lethargic, sleepy and less active and alert.,\n",
              " Reflexes and senses of the people eating this food become dull day by day thus they live more sedentary life.,\n",
              " They generally ask for the junk food daily because they have been trend so by their parents from the childhood.,\n",
              " You become prone to cardiovascular diseases due to the consumption of bad cholesterol and fat plus sodium.,\n",
              " It increases risk of cardiovascular diseases because it is rich in saturated fat, sodium and bad cholesterol.]"
            ]
          },
          "metadata": {},
          "execution_count": 17
        }
      ]
    },
    {
      "cell_type": "code",
      "metadata": {
        "id": "T1uqtYfdU5Xq"
      },
      "source": [
        "final_summary = \" \".join([word.text for word in summary])"
      ],
      "execution_count": 18,
      "outputs": []
    },
    {
      "cell_type": "code",
      "metadata": {
        "colab": {
          "base_uri": "https://localhost:8080/",
          "height": 140
        },
        "id": "fsU-QH2rVAj0",
        "outputId": "b04b4956-38d9-4fc2-e36b-d3f635b12b1c"
      },
      "source": [
        "final_summary"
      ],
      "execution_count": 19,
      "outputs": [
        {
          "output_type": "execute_result",
          "data": {
            "application/vnd.google.colaboratory.intrinsic+json": {
              "type": "string"
            },
            "text/plain": [
              "'Processed and junk foods are the means of rapid and unhealthy weight gain and negatively impact the whole body throughout the life. It is found according to the Centres for Disease Control and Prevention that Kids and children eating junk food are more prone to the type-2 diabetes. They become high in calories, high in cholesterol, low in healthy nutrients, high in sodium mineral, high in sugar, starch, unhealthy fat, lack of protein and lack of dietary fibers. Eating junk food daily lead us to the nutritional deficiencies in the body because it is lack of essential nutrients, vitamins, iron, minerals and dietary fibers. Some of the foods like french fries, fried foods, pizza, burgers, candy, soft drinks, baked goods, ice cream, cookies, etc are the example of high-sugar and high-fat containing foods. Junk foods are the source of constipation and other disease like diabetes, heart ailments, clogged arteries, heart attack, strokes, etc because of being poor in nutrition. According to the research by scientists, it has been found that junk foods have negative effects on the health in many ways. The amount of fats and sugar in the food makes you gain weight rapidly. Junk foods tastes good and looks good however do not fulfil the healthy calorie requirement of the body. Junk food is also one of the main reasons for the increase in obesity nowadays. To make things worse, junk food also clogs your arteries and increases the risk of a heart attack. Junk foods contain high level carbohydrate which spike blood sugar level and make person more lethargic, sleepy and less active and alert. Reflexes and senses of the people eating this food become dull day by day thus they live more sedentary life. They generally ask for the junk food daily because they have been trend so by their parents from the childhood. You become prone to cardiovascular diseases due to the consumption of bad cholesterol and fat plus sodium. It increases risk of cardiovascular diseases because it is rich in saturated fat, sodium and bad cholesterol.'"
            ]
          },
          "metadata": {},
          "execution_count": 19
        }
      ]
    },
    {
      "cell_type": "code",
      "metadata": {
        "id": "IqFuV0YpVBt2"
      },
      "source": [
        ""
      ],
      "execution_count": 19,
      "outputs": []
    }
  ]
}