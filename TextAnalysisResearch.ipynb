{
 "cells": [
  {
   "cell_type": "code",
   "execution_count": null,
   "source": [
    "!pip3 install pandas numpy seaborn matplotlib scikit-learn"
   ],
   "outputs": [],
   "metadata": {}
  },
  {
   "cell_type": "code",
   "execution_count": 1,
   "source": [
    "import numpy as np\n",
    "import pandas as pd\n",
    "import matplotlib.pyplot as plt\n",
    "import sklearn as sk\n",
    "import seaborn as sns"
   ],
   "outputs": [],
   "metadata": {}
  },
  {
   "cell_type": "markdown",
   "source": [
    "# Intuition About The Analysis\n",
    "\n",
    "We have to make dummy datasets for the process. Natural Language Processing might use some Deeplearning methods to come up with efficient solution.\n",
    "\n",
    "## Dataset Requirements\n",
    "- User Raised Ticket Description\n",
    "- Pre-defined IssueCategories / Softwares / Issues\n",
    "- If not able to recognize create a new cluster of the node\n",
    "\n",
    "## To Train Model\n",
    "- Problem defination and solution approch\n",
    "- Input Data\n",
    "- Creation of initial Datasets\n",
    "- Expliratory Data Analysis\n",
    "- Feature Grouping\n",
    "- Predictive Modeling (KClustering, Means, Random Forest maybe.)"
   ],
   "metadata": {}
  },
  {
   "cell_type": "markdown",
   "source": [],
   "metadata": {}
  },
  {
   "cell_type": "code",
   "execution_count": null,
   "source": [
    "print (\"Hello\")"
   ],
   "outputs": [],
   "metadata": {}
  }
 ],
 "metadata": {
  "orig_nbformat": 4,
  "language_info": {
   "name": "python",
   "version": "3.9.7",
   "mimetype": "text/x-python",
   "codemirror_mode": {
    "name": "ipython",
    "version": 3
   },
   "pygments_lexer": "ipython3",
   "nbconvert_exporter": "python",
   "file_extension": ".py"
  },
  "kernelspec": {
   "name": "python3",
   "display_name": "Python 3.9.7 64-bit"
  },
  "interpreter": {
   "hash": "aee8b7b246df8f9039afb4144a1f6fd8d2ca17a180786b69acc140d282b71a49"
  }
 },
 "nbformat": 4,
 "nbformat_minor": 2
}